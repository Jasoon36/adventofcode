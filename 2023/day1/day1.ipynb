{
 "cells": [
  {
   "cell_type": "code",
   "execution_count": null,
   "metadata": {},
   "outputs": [],
   "source": [
    "class Solution:\n",
    "    def __init__(self):\n",
    "        self.year       = '2023'\n",
    "        self.day        = '1'\n",
    "        self.prod       = self.read('input.txt')\n",
    "        self.test       = self.read('input_test.txt')\n",
    "        self.test_ans   = [12,38,15,77]\n",
    "\n",
    "    def read(self, filename: str) -> list:\n",
    "        with open(f'./{self.year}/day{self.day}/{filename}') as f:\n",
    "            input = [l.strip('\\n') for l in f]\n",
    "            f.close()\n",
    "\n",
    "        return input\n",
    "    \n",
    "    def solve(self, input: str) -> int:\n",
    "\n",
    "        for char in input:\n",
    "            if char.isdigit():\n",
    "                firstNum = char\n",
    "                break\n",
    "        \n",
    "        for char in input[::-1]:\n",
    "            if char.isdigit():\n",
    "                secondNum = char\n",
    "                break\n",
    "        \n",
    "        ans = int(firstNum + secondNum)\n",
    "        \n",
    "        return ans\n",
    "\n",
    "    def test_solution(self) -> bool:\n",
    "\n",
    "        for i, a in zip(self.test, self.test_ans):\n",
    "            try:\n",
    "                try_ans = self.solve(i)\n",
    "                assert try_ans == a\n",
    "            except AssertionError as e:\n",
    "                e.add_note(f'{try_ans} is not {a} for input\\n{i}')\n",
    "                raise e\n",
    "            \n",
    "        return True\n",
    "    \n",
    "    def solved(self):\n",
    "        print(self.test_solution())\n",
    "\n",
    "\n",
    "a = Solution()"
   ]
  },
  {
   "cell_type": "code",
   "execution_count": null,
   "metadata": {},
   "outputs": [],
   "source": [
    "a.solved()"
   ]
  }
 ],
 "metadata": {
  "kernelspec": {
   "display_name": "aoc_nb",
   "language": "python",
   "name": "python3"
  },
  "language_info": {
   "codemirror_mode": {
    "name": "ipython",
    "version": 3
   },
   "file_extension": ".py",
   "mimetype": "text/x-python",
   "name": "python",
   "nbconvert_exporter": "python",
   "pygments_lexer": "ipython3",
   "version": "3.11.10"
  }
 },
 "nbformat": 4,
 "nbformat_minor": 2
}
